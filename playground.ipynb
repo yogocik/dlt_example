{
 "cells": [
  {
   "cell_type": "code",
   "execution_count": 1,
   "metadata": {},
   "outputs": [],
   "source": [
    "import os\n",
    "from mimesis import Field, Fieldset, Schema\n",
    "from mimesis.enums import Gender, TimestampFormat\n",
    "from mimesis.locales import Locale\n",
    "import pandas as pd"
   ]
  },
  {
   "cell_type": "code",
   "execution_count": 3,
   "metadata": {},
   "outputs": [],
   "source": [
    "def users(rows:int=10):\n",
    "    field = Field(Locale.EN, seed=0xff)\n",
    "    fieldset = Fieldset(Locale.EN, seed=0xff)\n",
    "    schema_definition = lambda: {\n",
    "    \"shipping_address\": field(\"text.word\"),\n",
    "    \"payment_method\": field(\"text.word\"),\n",
    "    \"created_at\": field(\"timestamp\", fmt=TimestampFormat.RFC_3339),\n",
    "    \"updated_at\": field(\"timestamp\", fmt=TimestampFormat.RFC_3339),\n",
    "    }\n",
    "\n",
    "    schema = Schema(schema=schema_definition, iterations=rows)\n",
    "    schema.create()\n",
    "    return schema\n",
    "data = list(users(rows=20))"
   ]
  },
  {
   "cell_type": "code",
   "execution_count": 4,
   "metadata": {},
   "outputs": [],
   "source": [
    "inp = [f\"('{cols.get('shipping_address')}', '{cols.get('payment_method')}', '{cols.get('created_at')}', '{cols.get('updated_at')}')\" for cols in data]\n",
    "sql = f\"INSERT INTO product_stock (shipping_address, payment_method, created_at, updated_at) VALUES {',\\n'.join(inp)}\""
   ]
  },
  {
   "cell_type": "code",
   "execution_count": 5,
   "metadata": {},
   "outputs": [],
   "source": [
    "with open(\"./seeds/order_history_dummy_insert.sql\", \"w+\") as f:\n",
    "    f.write(sql)"
   ]
  }
 ],
 "metadata": {
  "kernelspec": {
   "display_name": "dlt-JRnXMAST",
   "language": "python",
   "name": "python3"
  },
  "language_info": {
   "codemirror_mode": {
    "name": "ipython",
    "version": 3
   },
   "file_extension": ".py",
   "mimetype": "text/x-python",
   "name": "python",
   "nbconvert_exporter": "python",
   "pygments_lexer": "ipython3",
   "version": "3.12.2"
  }
 },
 "nbformat": 4,
 "nbformat_minor": 2
}
